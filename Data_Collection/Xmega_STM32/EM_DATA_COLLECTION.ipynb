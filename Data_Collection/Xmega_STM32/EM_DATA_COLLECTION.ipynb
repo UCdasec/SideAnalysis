{
 "cells": [
  {
   "cell_type": "code",
   "execution_count": null,
   "id": "b9e46392",
   "metadata": {},
   "outputs": [],
   "source": [
    "#%load_ext autotime\n",
    "\n",
    "SCOPETYPE = 'OPENADC'\n",
    "PLATFORM = 'CWLITEXMEGA'\n",
    "CRYPTO_TARGET = 'TINYAES128C'  \n",
    "num_traces = 300000\n",
    "CHECK_CORR = False\n",
    "\n"
   ]
  },
  {
   "cell_type": "code",
   "execution_count": null,
   "id": "45e2d120",
   "metadata": {},
   "outputs": [],
   "source": [
    "\n",
    "#%load_ext autotime\n",
    "\n",
    "SCOPETYPE = 'OPENADC'\n",
    "PLATFORM = 'CW308_STM32F3'\n",
    "CRYPTO_TARGET = 'TINYAES128C'  \n",
    "num_traces = 200000\n",
    "CHECK_CORR = False\n"
   ]
  },
  {
   "cell_type": "code",
   "execution_count": null,
   "id": "5f57704b",
   "metadata": {},
   "outputs": [],
   "source": [
    "%run jupyter/Setup_Scripts/Setup_Generic.ipynb"
   ]
  },
  {
   "cell_type": "code",
   "execution_count": null,
   "id": "eddc9b17",
   "metadata": {},
   "outputs": [],
   "source": [
    "%%bash -s \"$PLATFORM\" \"$CRYPTO_TARGET\" \"$SS_VER\"\n",
    "cd hardware/victims/firmware/simpleserial-aes\n",
    "\n",
    "make PLATFORM=$1 CRYPTO_TARGET=$2 SS_VER=$3"
   ]
  },
  {
   "cell_type": "code",
   "execution_count": null,
   "id": "03fad42d",
   "metadata": {},
   "outputs": [],
   "source": [
    "cmd = \"hardware/victims/firmware/simpleserial-aes/simpleserial-aes-{}.hex\".format(PLATFORM)\n",
    "cw.program_target(scope, prog, cmd)\n",
    "print(cmd)"
   ]
  },
  {
   "cell_type": "code",
   "execution_count": null,
   "id": "1f594026",
   "metadata": {},
   "outputs": [],
   "source": [
    "scope.clock.adc_rate"
   ]
  },
  {
   "cell_type": "markdown",
   "id": "6714d249",
   "metadata": {},
   "source": [
    "# Set Gain"
   ]
  },
  {
   "cell_type": "code",
   "execution_count": null,
   "id": "f1d91080",
   "metadata": {},
   "outputs": [],
   "source": [
    "scope.gain.gain = 55\n",
    "# gain for em 69\n",
    "from tqdm import tnrange\n",
    "import numpy as np\n",
    "import time\n",
    "\n",
    "ktp = cw.ktp.Basic()\n",
    "key, text = ktp.next()\n",
    "target.set_key(key)\n",
    "\n",
    "scope.adc.offset = 0\n",
    "scope.adc.samples = 5000\n",
    "ktp = cw.ktp.Basic()"
   ]
  },
  {
   "cell_type": "markdown",
   "id": "7dbee647",
   "metadata": {},
   "source": [
    "# Key Setup"
   ]
  },
  {
   "cell_type": "code",
   "execution_count": null,
   "id": "031d3f0e",
   "metadata": {},
   "outputs": [],
   "source": [
    "dir(ktp)\n",
    "aaa = ktp.getInitialKey()\n",
    "#print(aaa)\n",
    "bbb = ktp.getKeyType()\n",
    "print(bbb)\n",
    "\n",
    "# The appropriate key can be uncommented based on the sspecific dataset,\n",
    "# note that the default key is automatically set : We reffer to the default key as K1\n",
    "#\n",
    "# Here are the Different Key options that we use in data collection: \n",
    "\n",
    "\n",
    "# K2\n",
    "# key_str = 'aa,80,d8,a7,84,d3,3f,5c,0b,90,a9,85,20,8e,ff,4a'\n",
    "\n",
    "# K3\n",
    "# key_str = 'd2,d5,01,68,82,83,91,43,96,9e,e9,a2,53,a7,52,e1'\n",
    "\n",
    "# K4\n",
    "# key_str = 'e6,de,35,a9,a5,23,19,df,c6,cc,bb,ba,c1,36,c3,bf'\n",
    "\n",
    "\n",
    "# ktp.fixed_key = False\n",
    "# ktp.setInitialKey(key_str)\n",
    "ktp.fixed_key = True\n",
    "key, text = ktp.next()"
   ]
  },
  {
   "cell_type": "markdown",
   "id": "cacdf950",
   "metadata": {},
   "source": [
    "# SAMPLE KEY AND TXT BOX"
   ]
  },
  {
   "cell_type": "code",
   "execution_count": null,
   "id": "5dfb403e",
   "metadata": {},
   "outputs": [],
   "source": [
    "target.set_key(key)\n",
    "for i in range(3):\n",
    "    key, text = ktp.next()\n",
    "    print(key)\n",
    "    print(text)\n",
    "    print('==============')"
   ]
  },
  {
   "cell_type": "code",
   "execution_count": null,
   "id": "c62fb2ae",
   "metadata": {},
   "outputs": [],
   "source": [
    "key"
   ]
  },
  {
   "cell_type": "code",
   "execution_count": null,
   "id": "2a686d28",
   "metadata": {},
   "outputs": [],
   "source": [
    "%run \"/home/ucsec/chipwhisperer/jupyter/Helper_Scripts/plot.ipynb\"\n",
    "plot = real_time_plot(plot_len=5000)"
   ]
  },
  {
   "cell_type": "code",
   "execution_count": null,
   "id": "78cfb9b7",
   "metadata": {},
   "outputs": [],
   "source": [
    "import numpy as np\n",
    "import chipwhisperer as cw\n",
    "import chipwhisperer.analyzer as cwa\n",
    "\n",
    "#project = cw.create_project(\"projects/hfield_demo.cwp\", overwrite = True)\n",
    "\n",
    "from tqdm import tnrange\n",
    "import time\n",
    "## define val to store data (trace,text,key)\n",
    "power_trace, plain_text = [],[]\n",
    "\n",
    "for i in tnrange(num_traces, desc='Capturing traces'):\n",
    "    key, text = ktp.next()  # manual creation of a key, text pair can be substituted here\n",
    "    \n",
    "    trace = cw.capture_trace(scope, target, text, key)\n",
    "    if trace is None:\n",
    "        continue\n",
    "    \n",
    "    power_trace.append(np.array(trace[0],dtype=np.float32))\n",
    "    plain_text.append(np.array(trace[1]))\n",
    "    \n",
    "    ## send trace for visualization every 25th trace\n",
    "    if i % 25 == 0:\n",
    "        plot.send(trace)\n",
    "    #time.sleep(.05)\n",
    "    \n",
    "key2=key        \n",
    "key = np.array(key)  ## as key in all iterations are the same\n",
    "power_trace = np.array(power_trace,dtype=np.float32)\n",
    "plain_text = np.array(plain_text)"
   ]
  },
  {
   "cell_type": "markdown",
   "id": "81cfe959",
   "metadata": {},
   "source": [
    "# Scope Specs"
   ]
  },
  {
   "cell_type": "code",
   "execution_count": null,
   "id": "4c8060cf",
   "metadata": {},
   "outputs": [],
   "source": [
    "print(\"Capture rate: \"+str\n",
    "      (scope.clock.adc_freq/10e5)+\"MHz\")"
   ]
  },
  {
   "cell_type": "markdown",
   "id": "bf0959d2",
   "metadata": {},
   "source": [
    "# Save the data"
   ]
  },
  {
   "cell_type": "code",
   "execution_count": null,
   "id": "54c9ab23",
   "metadata": {},
   "outputs": [],
   "source": [
    "output_path='/home/ucsec/Desktop/'\n",
    "os.makedirs(output_path, exist_ok=True)\n",
    "\n",
    "file_name='val_diff_key.npz'\n",
    "\n",
    "outpath = os.path.join(output_path,file_name)\n",
    "np.savez(outpath, power_trace=trace_array, plain_text=textin_array,key=key)\n"
   ]
  },
  {
   "cell_type": "code",
   "execution_count": null,
   "id": "a606e88f",
   "metadata": {},
   "outputs": [],
   "source": [
    "## disconnect device\n",
    "scope.dis()\n",
    "target.dis()"
   ]
  },
  {
   "cell_type": "code",
   "execution_count": null,
   "id": "0ed83405",
   "metadata": {},
   "outputs": [],
   "source": [
    "hex_key = [hex(val) for val in key]\n",
    "print(hex_key)"
   ]
  }
 ],
 "metadata": {
  "kernelspec": {
   "display_name": "Python 3 (ipykernel)",
   "language": "python",
   "name": "python3"
  },
  "language_info": {
   "codemirror_mode": {
    "name": "ipython",
    "version": 3
   },
   "file_extension": ".py",
   "mimetype": "text/x-python",
   "name": "python",
   "nbconvert_exporter": "python",
   "pygments_lexer": "ipython3",
   "version": "3.9.13"
  }
 },
 "nbformat": 4,
 "nbformat_minor": 5
}
