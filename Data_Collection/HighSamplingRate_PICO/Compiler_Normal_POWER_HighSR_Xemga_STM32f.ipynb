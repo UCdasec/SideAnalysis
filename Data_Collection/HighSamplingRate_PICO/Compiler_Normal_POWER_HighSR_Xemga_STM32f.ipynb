{
 "cells": [
  {
   "cell_type": "markdown",
   "id": "a3234fe1",
   "metadata": {},
   "source": [
    "# This is for STM32F un-masked aes implementation for STM32F3"
   ]
  },
  {
   "cell_type": "code",
   "execution_count": 1,
   "id": "b58868b7",
   "metadata": {},
   "outputs": [],
   "source": [
    "SCOPETYPE='OPENADC'\n",
    "PLATFORM='CW308_STM32F3'\n",
    "CRYPTO_TARGET='TINYAES128C' \n",
    "SS_VER='SS_VER_1_1'\n",
    "\n",
    "board = 'stm32f3'"
   ]
  },
  {
   "cell_type": "markdown",
   "id": "f3c781ca",
   "metadata": {},
   "source": [
    "# This is for xmega un-masked aes implementation for XMEGA"
   ]
  },
  {
   "cell_type": "code",
   "execution_count": null,
   "id": "8941e384",
   "metadata": {},
   "outputs": [],
   "source": [
    "SCOPETYPE='OPENADC'\n",
    "PLATFORM='CWLITEXMEGA'\n",
    "CRYPTO_TARGET='TINYAES128C' \n",
    "SS_VER='SS_VER_1_1'\n",
    "\n",
    "board = 'xmega'"
   ]
  },
  {
   "cell_type": "code",
   "execution_count": 2,
   "id": "43562585",
   "metadata": {},
   "outputs": [
    {
     "name": "stdout",
     "output_type": "stream",
     "text": [
      "INFO: Found ChipWhisperer😍\n",
      "scope.gain.mode                          changed from low                       to high                     \n",
      "scope.gain.gain                          changed from 0                         to 30                       \n",
      "scope.gain.db                            changed from 5.5                       to 24.8359375               \n",
      "scope.adc.basic_mode                     changed from low                       to rising_edge              \n",
      "scope.adc.samples                        changed from 24400                     to 5000                     \n",
      "scope.adc.trig_count                     changed from 6299668                   to 17221264                 \n",
      "scope.clock.adc_src                      changed from clkgen_x1                 to clkgen_x4                \n",
      "scope.clock.adc_freq                     changed from 29538448                  to 96000000                 \n",
      "scope.clock.adc_rate                     changed from 29538448.0                to 96000000.0               \n",
      "scope.clock.clkgen_div                   changed from 1                         to 26                       \n",
      "scope.clock.clkgen_freq                  changed from 192000000.0               to 7384615.384615385        \n",
      "scope.io.tio1                            changed from serial_tx                 to serial_rx                \n",
      "scope.io.tio2                            changed from serial_rx                 to serial_tx                \n",
      "scope.io.hs2                             changed from None                      to clkgen                   \n"
     ]
    }
   ],
   "source": [
    "%run /home/evannimmo/chipwhisperer/jupyter/Setup_Scripts/Setup_Generic.ipynb"
   ]
  },
  {
   "cell_type": "code",
   "execution_count": 3,
   "id": "de1c6c8f",
   "metadata": {},
   "outputs": [
    {
     "name": "stdout",
     "output_type": "stream",
     "text": [
      "Building for platform CW308_STM32F3 with CRYPTO_TARGET=TINYAES128C\n",
      "SS_VER set to SS_VER_1_1\n",
      "SS_VER set to SS_VER_1_1\n",
      "Blank crypto options, building for AES128\n",
      "Building for platform CW308_STM32F3 with CRYPTO_TARGET=TINYAES128C\n",
      "SS_VER set to SS_VER_1_1\n",
      "SS_VER set to SS_VER_1_1\n",
      "Blank crypto options, building for AES128\n",
      "make[1]: '.dep' is up to date.\n",
      "Building for platform CW308_STM32F3 with CRYPTO_TARGET=TINYAES128C\n",
      "SS_VER set to SS_VER_1_1\n",
      "SS_VER set to SS_VER_1_1\n",
      "Blank crypto options, building for AES128\n",
      ".\n",
      "Welcome to another exciting ChipWhisperer target build!!\n",
      "arm-none-eabi-gcc (15:9-2019-q4-0ubuntu1) 9.2.1 20191025 (release) [ARM/arm-9-branch revision 277599]\n",
      "Copyright (C) 2019 Free Software Foundation, Inc.\n",
      "This is free software; see the source for copying conditions.  There is NO\n",
      "warranty; not even for MERCHANTABILITY or FITNESS FOR A PARTICULAR PURPOSE.\n",
      "\n",
      ".\n",
      "Compiling:\n",
      "-en     simpleserial-aes.c ...\n",
      "-e Done!\n",
      ".\n",
      "Compiling:\n",
      "-en     .././simpleserial/simpleserial.c ...\n",
      "-e Done!\n",
      ".\n",
      "Compiling:\n",
      "-en     .././hal/stm32f3/stm32f3_hal.c ...\n",
      "-e Done!\n",
      ".\n",
      "Compiling:\n",
      "-en     .././hal/stm32f3/stm32f3_hal_lowlevel.c ...\n",
      "-e Done!\n",
      ".\n",
      "Compiling:\n",
      "-en     .././hal/stm32f3/stm32f3_sysmem.c ...\n",
      "-e Done!\n",
      ".\n",
      "Compiling:\n",
      "-en     .././crypto/tiny-AES128-C/aes.c ...\n",
      "-e Done!\n",
      ".\n",
      "Compiling:\n",
      "-en     .././crypto/aes-independant.c ...\n",
      "-e Done!\n",
      ".\n",
      "Assembling: .././hal/stm32f3/stm32f3_startup.S\n",
      "arm-none-eabi-gcc -c -mcpu=cortex-m4 -I. -x assembler-with-cpp -mthumb -mfloat-abi=soft -fmessage-length=0 -ffunction-sections -DF_CPU=7372800 -Wa,-gstabs,-adhlns=objdir-CW308_STM32F3/stm32f3_startup.lst -I.././simpleserial/ -I.././simpleserial/ -I.././hal -I.././hal/stm32f3 -I.././hal/stm32f3/CMSIS -I.././hal/stm32f3/CMSIS/core -I.././hal/stm32f3/CMSIS/device -I.././hal/stm32f4/Legacy -I.././crypto/ -I.././crypto/tiny-AES128-C .././hal/stm32f3/stm32f3_startup.S -o objdir-CW308_STM32F3/stm32f3_startup.o\n",
      ".\n",
      "LINKING:\n",
      "-en     simpleserial-aes-CW308_STM32F3.elf ...\n",
      "-e Done!\n",
      ".\n",
      "Creating load file for Flash: simpleserial-aes-CW308_STM32F3.hex\n",
      "arm-none-eabi-objcopy -O ihex -R .eeprom -R .fuse -R .lock -R .signature simpleserial-aes-CW308_STM32F3.elf simpleserial-aes-CW308_STM32F3.hex\n",
      ".\n",
      "Creating load file for Flash: simpleserial-aes-CW308_STM32F3.bin\n",
      "arm-none-eabi-objcopy -O binary -R .eeprom -R .fuse -R .lock -R .signature simpleserial-aes-CW308_STM32F3.elf simpleserial-aes-CW308_STM32F3.bin\n",
      ".\n",
      "Creating load file for EEPROM: simpleserial-aes-CW308_STM32F3.eep\n",
      "arm-none-eabi-objcopy -j .eeprom --set-section-flags=.eeprom=\"alloc,load\" \\\n",
      "--change-section-lma .eeprom=0 --no-change-warnings -O ihex simpleserial-aes-CW308_STM32F3.elf simpleserial-aes-CW308_STM32F3.eep || exit 0\n",
      ".\n",
      "Creating Extended Listing: simpleserial-aes-CW308_STM32F3.lss\n",
      "arm-none-eabi-objdump -h -S -z simpleserial-aes-CW308_STM32F3.elf > simpleserial-aes-CW308_STM32F3.lss\n",
      ".\n",
      "Creating Symbol Table: simpleserial-aes-CW308_STM32F3.sym\n",
      "arm-none-eabi-nm -n simpleserial-aes-CW308_STM32F3.elf > simpleserial-aes-CW308_STM32F3.sym\n",
      "Building for platform CW308_STM32F3 with CRYPTO_TARGET=TINYAES128C\n",
      "SS_VER set to SS_VER_1_1\n",
      "SS_VER set to SS_VER_1_1\n",
      "Blank crypto options, building for AES128\n",
      "Size after:\n",
      "   text\t   data\t    bss\t    dec\t    hex\tfilename\n",
      "   6664\t    536\t   1632\t   8832\t   2280\tsimpleserial-aes-CW308_STM32F3.elf\n",
      "+--------------------------------------------------------\n",
      "+ Default target does full rebuild each time.\n",
      "+ Specify buildtarget == allquick == to avoid full rebuild\n",
      "+--------------------------------------------------------\n",
      "+--------------------------------------------------------\n",
      "+ Built for platform CW308T: STM32F3 Target with:\n",
      "+ CRYPTO_TARGET = TINYAES128C\n",
      "+ CRYPTO_OPTIONS = AES128C\n",
      "+--------------------------------------------------------\n"
     ]
    }
   ],
   "source": [
    "%%bash -s \"$PLATFORM\" \"$CRYPTO_TARGET\" \"$SS_VER\"\n",
    "cd /home/evannimmo/chipwhisperer/hardware/victims/firmware/simpleserial-aes\n",
    "make PLATFORM=$1 CRYPTO_TARGET=$2 SS_VER=$3 OPT=1"
   ]
  },
  {
   "cell_type": "code",
   "execution_count": 4,
   "id": "57e42c20",
   "metadata": {},
   "outputs": [
    {
     "name": "stdout",
     "output_type": "stream",
     "text": [
      "Building for platform CW308_STM32F3 with CRYPTO_TARGET=TINYAES128C\n",
      "SS_VER set to SS_VER_1_1\n",
      "SS_VER set to SS_VER_1_1\n",
      "Blank crypto options, building for AES128\n",
      "Building for platform CW308_STM32F3 with CRYPTO_TARGET=TINYAES128C\n",
      "SS_VER set to SS_VER_1_1\n",
      "SS_VER set to SS_VER_1_1\n",
      "Blank crypto options, building for AES128\n",
      "make[1]: '.dep' is up to date.\n",
      "Building for platform CW308_STM32F3 with CRYPTO_TARGET=TINYAES128C\n",
      "SS_VER set to SS_VER_1_1\n",
      "SS_VER set to SS_VER_1_1\n",
      "Blank crypto options, building for AES128\n",
      ".\n",
      "Welcome to another exciting ChipWhisperer target build!!\n",
      "arm-none-eabi-gcc (15:9-2019-q4-0ubuntu1) 9.2.1 20191025 (release) [ARM/arm-9-branch revision 277599]\n",
      "Copyright (C) 2019 Free Software Foundation, Inc.\n",
      "This is free software; see the source for copying conditions.  There is NO\n",
      "warranty; not even for MERCHANTABILITY or FITNESS FOR A PARTICULAR PURPOSE.\n",
      "\n",
      ".\n",
      "Compiling:\n",
      "-en     simpleserial-aes.c ...\n",
      "-e Done!\n",
      ".\n",
      "Compiling:\n",
      "-en     .././simpleserial/simpleserial.c ...\n",
      "-e Done!\n",
      ".\n",
      "Compiling:\n",
      "-en     .././hal/stm32f3/stm32f3_hal.c ...\n",
      "-e Done!\n",
      ".\n",
      "Compiling:\n",
      "-en     .././hal/stm32f3/stm32f3_hal_lowlevel.c ...\n",
      "-e Done!\n",
      ".\n",
      "Compiling:\n",
      "-en     .././hal/stm32f3/stm32f3_sysmem.c ...\n",
      "-e Done!\n",
      ".\n",
      "Compiling:\n",
      "-en     .././crypto/tiny-AES128-C/aes.c ...\n",
      "-e Done!\n",
      ".\n",
      "Compiling:\n",
      "-en     .././crypto/aes-independant.c ...\n",
      "-e Done!\n",
      ".\n",
      "Assembling: .././hal/stm32f3/stm32f3_startup.S\n",
      "arm-none-eabi-gcc -c -mcpu=cortex-m4 -I. -x assembler-with-cpp -mthumb -mfloat-abi=soft -fmessage-length=0 -ffunction-sections -DF_CPU=7372800 -Wa,-gstabs,-adhlns=objdir-CW308_STM32F3/stm32f3_startup.lst -I.././simpleserial/ -I.././simpleserial/ -I.././hal -I.././hal/stm32f3 -I.././hal/stm32f3/CMSIS -I.././hal/stm32f3/CMSIS/core -I.././hal/stm32f3/CMSIS/device -I.././hal/stm32f4/Legacy -I.././crypto/ -I.././crypto/tiny-AES128-C .././hal/stm32f3/stm32f3_startup.S -o objdir-CW308_STM32F3/stm32f3_startup.o\n",
      ".\n",
      "LINKING:\n",
      "-en     simpleserial-aes-CW308_STM32F3.elf ...\n",
      "-e Done!\n",
      ".\n",
      "Creating load file for Flash: simpleserial-aes-CW308_STM32F3.hex\n",
      "arm-none-eabi-objcopy -O ihex -R .eeprom -R .fuse -R .lock -R .signature simpleserial-aes-CW308_STM32F3.elf simpleserial-aes-CW308_STM32F3.hex\n",
      ".\n",
      "Creating load file for Flash: simpleserial-aes-CW308_STM32F3.bin\n",
      "arm-none-eabi-objcopy -O binary -R .eeprom -R .fuse -R .lock -R .signature simpleserial-aes-CW308_STM32F3.elf simpleserial-aes-CW308_STM32F3.bin\n",
      ".\n",
      "Creating load file for EEPROM: simpleserial-aes-CW308_STM32F3.eep\n",
      "arm-none-eabi-objcopy -j .eeprom --set-section-flags=.eeprom=\"alloc,load\" \\\n",
      "--change-section-lma .eeprom=0 --no-change-warnings -O ihex simpleserial-aes-CW308_STM32F3.elf simpleserial-aes-CW308_STM32F3.eep || exit 0\n",
      ".\n",
      "Creating Extended Listing: simpleserial-aes-CW308_STM32F3.lss\n",
      "arm-none-eabi-objdump -h -S -z simpleserial-aes-CW308_STM32F3.elf > simpleserial-aes-CW308_STM32F3.lss\n",
      ".\n",
      "Creating Symbol Table: simpleserial-aes-CW308_STM32F3.sym\n",
      "arm-none-eabi-nm -n simpleserial-aes-CW308_STM32F3.elf > simpleserial-aes-CW308_STM32F3.sym\n",
      "Building for platform CW308_STM32F3 with CRYPTO_TARGET=TINYAES128C\n",
      "SS_VER set to SS_VER_1_1\n",
      "SS_VER set to SS_VER_1_1\n",
      "Blank crypto options, building for AES128\n",
      "Size after:\n",
      "   text\t   data\t    bss\t    dec\t    hex\tfilename\n",
      "   5808\t    536\t   1632\t   7976\t   1f28\tsimpleserial-aes-CW308_STM32F3.elf\n",
      "+--------------------------------------------------------\n",
      "+ Default target does full rebuild each time.\n",
      "+ Specify buildtarget == allquick == to avoid full rebuild\n",
      "+--------------------------------------------------------\n",
      "+--------------------------------------------------------\n",
      "+ Built for platform CW308T: STM32F3 Target with:\n",
      "+ CRYPTO_TARGET = TINYAES128C\n",
      "+ CRYPTO_OPTIONS = AES128C\n",
      "+--------------------------------------------------------\n"
     ]
    }
   ],
   "source": [
    "%%bash -s \"$PLATFORM\" \"$CRYPTO_TARGET\" \"$SS_VER\"\n",
    "cd /home/evannimmo/chipwhisperer/hardware/victims/firmware/simpleserial-aes\n",
    "make PLATFORM=$1 CRYPTO_TARGET=$2 SS_VER=$3 "
   ]
  },
  {
   "cell_type": "code",
   "execution_count": 5,
   "id": "a183dcf6",
   "metadata": {},
   "outputs": [
    {
     "name": "stdout",
     "output_type": "stream",
     "text": [
      "Detected known STMF32: STM32F302xB(C)/303xB(C)\n",
      "Extended erase (0x44), this can take ten seconds or more\n",
      "Attempting to program 6343 bytes at 0x8000000\n",
      "STM32F Programming flash...\n",
      "STM32F Reading flash...\n",
      "Verified flash OK, 6343 bytes\n",
      "/home/evannimmo/chipwhisperer/hardware/victims/firmware/simpleserial-aes/simpleserial-aes-CW308_STM32F3.hex\n"
     ]
    }
   ],
   "source": [
    "cmd = \"/home/evannimmo/chipwhisperer/hardware/victims/firmware/simpleserial-aes/simpleserial-aes-{}.hex\".format(PLATFORM)\n",
    "cw.program_target(scope, prog, cmd)\n",
    "print(cmd)"
   ]
  },
  {
   "cell_type": "markdown",
   "id": "d5485d05",
   "metadata": {},
   "source": [
    "# Prameters Offset and Number of Samples per datasets:"
   ]
  },
  {
   "cell_type": "code",
   "execution_count": 6,
   "id": "84dcf291",
   "metadata": {},
   "outputs": [],
   "source": [
    "from tqdm import tnrange\n",
    "import numpy as np\n",
    "import time\n",
    "\n",
    "ktp = cw.ktp.Basic()\n",
    "key, text = ktp.next()\n",
    "target.set_key(key)\n",
    "\n",
    "scope.adc.offset = 0\n",
    "scope.adc.samples = 5000\n",
    "ktp = cw.ktp.Basic()"
   ]
  },
  {
   "cell_type": "markdown",
   "id": "aceadb64",
   "metadata": {},
   "source": [
    "# Key Setup"
   ]
  },
  {
   "cell_type": "code",
   "execution_count": 7,
   "id": "e1fa254a",
   "metadata": {},
   "outputs": [
    {
     "name": "stdout",
     "output_type": "stream",
     "text": [
      "True\n",
      "CWbytearray(b'2b 7e 15 16 28 ae d2 a6 ab f7 15 88 09 cf 4f 3c')\n"
     ]
    },
    {
     "name": "stderr",
     "output_type": "stream",
     "text": [
      "/home/evannimmo/chipwhisperer/software/chipwhisperer/common/utils/util.py:497: UserWarning: getKeyType function is deprecated use get_key_type instead. This function will be removed in ChipWhisperer 5.7.0\n",
      "  warnings.warn('{} function is deprecated use {} instead. This function will be removed in ChipWhisperer 5.7.0'.format(cc_func, func.__name__))\n"
     ]
    }
   ],
   "source": [
    "dir(ktp)\n",
    "aaa = ktp.getInitialKey()\n",
    "#print(aaa)\n",
    "bbb = ktp.getKeyType()\n",
    "print(bbb)\n",
    "\n",
    "# The appropriate key can be uncommented based on the sspecific dataset,\n",
    "# note that the default key is automatically set : We reffer to the default key as K1\n",
    "#\n",
    "# Here are the Different Key options that we use in data collection: \n",
    "\n",
    "\n",
    "# K2\n",
    "#key_str = 'aa,80,d8,a7,84,d3,3f,5c,0b,90,a9,85,20,8e,ff,4a'\n",
    "\n",
    "# K3\n",
    "#key_str = 'd2,d5,01,68,82,83,91,43,96,9e,e9,a2,53,a7,52,e1'\n",
    "\n",
    "# K4\n",
    "#key_str = 'e6,de,35,a9,a5,23,19,df,c6,cc,bb,ba,c1,36,c3,bf'\n",
    "\n",
    "\n",
    "#ktp.fixed_key = False\n",
    "#ktp.setInitialKey(key_str)\n",
    "ktp.fixed_key = True\n",
    "key, text = ktp.next()\n",
    "print(key)"
   ]
  },
  {
   "cell_type": "markdown",
   "id": "76dde294",
   "metadata": {},
   "source": [
    "# SAMPLE KEY AND TXT BOX"
   ]
  },
  {
   "cell_type": "code",
   "execution_count": 8,
   "id": "52430bc9",
   "metadata": {},
   "outputs": [
    {
     "name": "stdout",
     "output_type": "stream",
     "text": [
      "CWbytearray(b'2b 7e 15 16 28 ae d2 a6 ab f7 15 88 09 cf 4f 3c')\n",
      "CWbytearray(b'43 c7 7e 5f f0 9b 3a fc e8 b5 6e 4a 20 a5 21 2e')\n",
      "==============\n",
      "CWbytearray(b'2b 7e 15 16 28 ae d2 a6 ab f7 15 88 09 cf 4f 3c')\n",
      "CWbytearray(b'1d e1 31 c0 5e 9e 04 fd 1e b7 cd 06 2f 9e 26 57')\n",
      "==============\n",
      "CWbytearray(b'2b 7e 15 16 28 ae d2 a6 ab f7 15 88 09 cf 4f 3c')\n",
      "CWbytearray(b'96 42 c9 09 82 9e 0b e1 2d c4 84 04 92 b1 8d f2')\n",
      "==============\n"
     ]
    }
   ],
   "source": [
    "target.set_key(key)\n",
    "for i in range(3):\n",
    "    key, text = ktp.next()\n",
    "    print(key)\n",
    "    print(text)\n",
    "    print('==============')"
   ]
  },
  {
   "cell_type": "markdown",
   "id": "c224ee46",
   "metadata": {},
   "source": [
    "# 10 Sample Traces: "
   ]
  },
  {
   "cell_type": "code",
   "execution_count": null,
   "id": "dba223ae",
   "metadata": {},
   "outputs": [],
   "source": [
    "trace_array = []\n",
    "textin_array = []\n",
    "N = 10\n",
    "for i in tnrange(N, desc='Capturing traces'):\n",
    "    scope.arm()\n",
    "    \n",
    "    target.simpleserial_write('p', text)\n",
    "    \n",
    "    ret = scope.capture()\n",
    "    if ret:\n",
    "        print(\"Target timed out!\")\n",
    "        continue\n",
    "    \n",
    "    response = target.simpleserial_read('r', 16)\n",
    "    \n",
    "    trace_array.append(scope.get_last_trace())\n",
    "    textin_array.append(text)\n",
    "    \n",
    "    key, text = ktp.next() "
   ]
  },
  {
   "cell_type": "code",
   "execution_count": null,
   "id": "edd518d6",
   "metadata": {
    "scrolled": true
   },
   "outputs": [],
   "source": [
    "#%matplotlib notebook\n",
    "import matplotlib.pylab as plt\n",
    "#from matplotlib.pyplot import MultipleLocator\n",
    "\n",
    "# x_locator = MultipleLocator(2000)\n",
    "# ax = plt.gca()\n",
    "# ax.xaxis.set_major_locator(x_locator)\n",
    "\n",
    "# plt.plot(trace_array[2][0:5000], color='r')"
   ]
  },
  {
   "cell_type": "code",
   "execution_count": null,
   "id": "8cb4f831",
   "metadata": {},
   "outputs": [],
   "source": [
    "plt.plot(trace_array[0])"
   ]
  },
  {
   "cell_type": "markdown",
   "id": "799af212",
   "metadata": {},
   "source": [
    "# SCOPE PARAMETERS: "
   ]
  },
  {
   "cell_type": "code",
   "execution_count": null,
   "id": "d168f4c1",
   "metadata": {},
   "outputs": [],
   "source": [
    "scope"
   ]
  },
  {
   "cell_type": "markdown",
   "id": "0901649d",
   "metadata": {},
   "source": [
    "# DATA COLLECTION:"
   ]
  },
  {
   "cell_type": "code",
   "execution_count": 12,
   "id": "d5fd60f7",
   "metadata": {},
   "outputs": [
    {
     "name": "stderr",
     "output_type": "stream",
     "text": [
      "/tmp/ipykernel_10762/1348205539.py:4: TqdmDeprecationWarning: Please use `tqdm.notebook.trange` instead of `tqdm.tnrange`\n",
      "  for i in tnrange(N, desc='Capturing traces'):\n"
     ]
    },
    {
     "data": {
      "application/vnd.jupyter.widget-view+json": {
       "model_id": "e8f3a0ac01804a4293baa7a2ae41ab61",
       "version_major": 2,
       "version_minor": 0
      },
      "text/plain": [
       "Capturing traces:   0%|          | 0/2500 [00:00<?, ?it/s]"
      ]
     },
     "metadata": {},
     "output_type": "display_data"
    }
   ],
   "source": [
    "trace_array = []\n",
    "textin_array = []\n",
    "N = 2500\n",
    "for i in tnrange(N, desc='Capturing traces'):\n",
    "    scope.arm()\n",
    "    \n",
    "    target.simpleserial_write('p', text)\n",
    "    \n",
    "    ret = scope.capture()\n",
    "    if ret:\n",
    "        print(\"Target timed out!\")\n",
    "        continue\n",
    "    \n",
    "    response = target.simpleserial_read('r', 16)\n",
    "    \n",
    "    trace_array.append(scope.get_last_trace())\n",
    "    textin_array.append(text)\n",
    "#     print(\"Capture rate: \"+str\n",
    "#       (scope.clock.adc_freq/10e5)+\"MHz\")\n",
    "    time.sleep(.02)\n",
    "    key, text = ktp.next() "
   ]
  },
  {
   "cell_type": "markdown",
   "id": "bd6b55ef",
   "metadata": {},
   "source": [
    "# Scope Specs"
   ]
  },
  {
   "cell_type": "code",
   "execution_count": null,
   "id": "0502e1a1",
   "metadata": {},
   "outputs": [],
   "source": [
    "print(\"Capture rate: \"+str\n",
    "      (scope.clock.adc_freq/(10e5))+\"MHz\")"
   ]
  },
  {
   "cell_type": "markdown",
   "id": "fc10ef8a",
   "metadata": {},
   "source": [
    "# Save the data\n",
    "## Note: The difference here is we only need to save the Plain text as we collect the power from  pico"
   ]
  },
  {
   "cell_type": "code",
   "execution_count": null,
   "id": "bc9cc84e",
   "metadata": {},
   "outputs": [],
   "source": [
    "import os \n",
    "\n",
    "output_path='/home/evannimmo/Desktop/Power/S3_K1_100k'\n",
    "os.makedirs(output_path, exist_ok=True)\n",
    "\n",
    "file_name='S3_K1_100k.npz'\n",
    "\n",
    "outpath = os.path.join(output_path,file_name)\n",
    "np.savez(outpath, plain_text=textin_array,key=key)\n"
   ]
  },
  {
   "cell_type": "code",
   "execution_count": null,
   "id": "6306c9e1",
   "metadata": {},
   "outputs": [],
   "source": [
    "hex_key = [hex(val) for val in key]\n",
    "print(hex_key)"
   ]
  },
  {
   "cell_type": "code",
   "execution_count": null,
   "id": "9ffbeac7",
   "metadata": {},
   "outputs": [],
   "source": [
    "scope.dis()\n",
    "target.dis()"
   ]
  },
  {
   "cell_type": "code",
   "execution_count": null,
   "id": "150a8182",
   "metadata": {},
   "outputs": [],
   "source": []
  },
  {
   "cell_type": "code",
   "execution_count": null,
   "id": "d0aeb2de",
   "metadata": {},
   "outputs": [],
   "source": []
  },
  {
   "cell_type": "code",
   "execution_count": null,
   "id": "963f52f4",
   "metadata": {},
   "outputs": [],
   "source": []
  },
  {
   "cell_type": "code",
   "execution_count": null,
   "id": "353bb97e",
   "metadata": {},
   "outputs": [],
   "source": []
  },
  {
   "cell_type": "code",
   "execution_count": null,
   "id": "65a9ed32",
   "metadata": {},
   "outputs": [],
   "source": []
  },
  {
   "cell_type": "code",
   "execution_count": null,
   "id": "2e673b69",
   "metadata": {},
   "outputs": [],
   "source": []
  },
  {
   "cell_type": "code",
   "execution_count": null,
   "id": "9c87b898",
   "metadata": {},
   "outputs": [],
   "source": [
    "(scope.clock.clkgen_freq)/(100000)"
   ]
  },
  {
   "cell_type": "code",
   "execution_count": null,
   "id": "ca7c7fec",
   "metadata": {},
   "outputs": [],
   "source": []
  },
  {
   "cell_type": "code",
   "execution_count": null,
   "id": "223a4618",
   "metadata": {},
   "outputs": [],
   "source": []
  },
  {
   "cell_type": "code",
   "execution_count": null,
   "id": "fb2a3a40",
   "metadata": {},
   "outputs": [],
   "source": []
  }
 ],
 "metadata": {
  "kernelspec": {
   "display_name": "Python 3 (ipykernel)",
   "language": "python",
   "name": "python3"
  },
  "language_info": {
   "codemirror_mode": {
    "name": "ipython",
    "version": 3
   },
   "file_extension": ".py",
   "mimetype": "text/x-python",
   "name": "python",
   "nbconvert_exporter": "python",
   "pygments_lexer": "ipython3",
   "version": "3.9.5"
  }
 },
 "nbformat": 4,
 "nbformat_minor": 5
}
