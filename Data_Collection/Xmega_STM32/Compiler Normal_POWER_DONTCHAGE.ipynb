{
 "cells": [
  {
   "cell_type": "markdown",
   "id": "a3234fe1",
   "metadata": {},
   "source": [
    "# This is for STM32F un-masked aes implementation for STM32F3"
   ]
  },
  {
   "cell_type": "code",
   "execution_count": null,
   "id": "b58868b7",
   "metadata": {},
   "outputs": [],
   "source": [
    "SCOPETYPE='OPENADC'\n",
    "PLATFORM='CW308_STM32F3'\n",
    "CRYPTO_TARGET='TINYAES128C' \n",
    "SS_VER='SS_VER_1_1'\n",
    "\n",
    "board = 'stm32f3'"
   ]
  },
  {
   "cell_type": "markdown",
   "id": "f3c781ca",
   "metadata": {},
   "source": [
    "# This is for xmega un-masked aes implementation for XMEGA"
   ]
  },
  {
   "cell_type": "code",
   "execution_count": null,
   "id": "8941e384",
   "metadata": {},
   "outputs": [],
   "source": [
    "\n",
    "SCOPETYPE='OPENADC'\n",
    "PLATFORM='CWLITEXMEGA'\n",
    "CRYPTO_TARGET='TINYAES128C' \n",
    "SS_VER='SS_VER_1_1'\n",
    "\n",
    "board = 'xmega'"
   ]
  },
  {
   "cell_type": "code",
   "execution_count": null,
   "id": "43562585",
   "metadata": {},
   "outputs": [],
   "source": [
    "%run jupyter/Setup_Scripts/Setup_Generic.ipynb"
   ]
  },
  {
   "cell_type": "code",
   "execution_count": null,
   "id": "57e42c20",
   "metadata": {},
   "outputs": [],
   "source": [
    "%%bash -s \"$PLATFORM\" \"$CRYPTO_TARGET\" \"$SS_VER\"\n",
    "cd hardware/victims/firmware/simpleserial-aes\n",
    "make PLATFORM=$1 CRYPTO_TARGET=$2 SS_VER=$3 "
   ]
  },
  {
   "cell_type": "code",
   "execution_count": null,
   "id": "a183dcf6",
   "metadata": {},
   "outputs": [],
   "source": [
    "cmd = \"hardware/victims/firmware/simpleserial-aes/simpleserial-aes-{}.hex\".format(PLATFORM)\n",
    "cw.program_target(scope, prog, cmd)\n",
    "print(cmd)"
   ]
  },
  {
   "cell_type": "markdown",
   "id": "d5485d05",
   "metadata": {},
   "source": [
    "# Prameters Offset and Number of Samples per datasets:"
   ]
  },
  {
   "cell_type": "code",
   "execution_count": null,
   "id": "84dcf291",
   "metadata": {},
   "outputs": [],
   "source": [
    "from tqdm import tnrange\n",
    "import numpy as np\n",
    "import time\n",
    "\n",
    "ktp = cw.ktp.Basic()\n",
    "key, text = ktp.next()\n",
    "target.set_key(key)\n",
    "\n",
    "scope.adc.offset = 0\n",
    "scope.adc.samples = 5000\n",
    "ktp = cw.ktp.Basic()"
   ]
  },
  {
   "cell_type": "markdown",
   "id": "aceadb64",
   "metadata": {},
   "source": [
    "# Key Setup"
   ]
  },
  {
   "cell_type": "code",
   "execution_count": null,
   "id": "e1fa254a",
   "metadata": {},
   "outputs": [],
   "source": [
    "dir(ktp)\n",
    "aaa = ktp.getInitialKey()\n",
    "#print(aaa)\n",
    "bbb = ktp.getKeyType()\n",
    "print(bbb)\n",
    "\n",
    "# The appropriate key can be uncommented based on the sspecific dataset,\n",
    "# note that the default key is automatically set : We reffer to the default key as K1\n",
    "#\n",
    "# Here are the Different Key options that we use in data collection: \n",
    "\n",
    "\n",
    "# K2\n",
    "# key_str = 'aa,80,d8,a7,84,d3,3f,5c,0b,90,a9,85,20,8e,ff,4a'\n",
    "\n",
    "# K3\n",
    "# key_str = 'd2,d5,01,68,82,83,91,43,96,9e,e9,a2,53,a7,52,e1'\n",
    "\n",
    "# K4\n",
    "# key_str = 'e6,de,35,a9,a5,23,19,df,c6,cc,bb,ba,c1,36,c3,bf'\n",
    "\n",
    "\n",
    "# ktp.fixed_key = False\n",
    "# ktp.setInitialKey(key_str)\n",
    "ktp.fixed_key = True\n",
    "key, text = ktp.next()\n",
    "print(key)"
   ]
  },
  {
   "cell_type": "markdown",
   "id": "76dde294",
   "metadata": {},
   "source": [
    "# SAMPLE KEY AND TXT BOX"
   ]
  },
  {
   "cell_type": "code",
   "execution_count": null,
   "id": "52430bc9",
   "metadata": {},
   "outputs": [],
   "source": [
    "target.set_key(key)\n",
    "for i in range(3):\n",
    "    key, text = ktp.next()\n",
    "    print(key)\n",
    "    print(text)\n",
    "    print('==============')"
   ]
  },
  {
   "cell_type": "markdown",
   "id": "c224ee46",
   "metadata": {},
   "source": [
    "# 10 Sample Traces: "
   ]
  },
  {
   "cell_type": "code",
   "execution_count": null,
   "id": "dba223ae",
   "metadata": {},
   "outputs": [],
   "source": [
    "trace_array = []\n",
    "textin_array = []\n",
    "N = 10\n",
    "for i in tnrange(N, desc='Capturing traces'):\n",
    "    scope.arm()\n",
    "    \n",
    "    target.simpleserial_write('p', text)\n",
    "    \n",
    "    ret = scope.capture()\n",
    "    if ret:\n",
    "        print(\"Target timed out!\")\n",
    "        continue\n",
    "    \n",
    "    response = target.simpleserial_read('r', 16)\n",
    "    \n",
    "    trace_array.append(scope.get_last_trace())\n",
    "    textin_array.append(text)\n",
    "    \n",
    "    key, text = ktp.next() "
   ]
  },
  {
   "cell_type": "code",
   "execution_count": null,
   "id": "edd518d6",
   "metadata": {
    "scrolled": true
   },
   "outputs": [],
   "source": [
    "%matplotlib notebook\n",
    "import matplotlib.pylab as plt\n",
    "from matplotlib.pyplot import MultipleLocator\n",
    "\n",
    "x_locator = MultipleLocator(2000)\n",
    "ax = plt.gca()\n",
    "ax.xaxis.set_major_locator(x_locator)\n",
    "\n",
    "plt.plot(trace_array[2][0:5000], color='r')"
   ]
  },
  {
   "cell_type": "markdown",
   "id": "799af212",
   "metadata": {},
   "source": [
    "# SCOPE PARAMETERS: "
   ]
  },
  {
   "cell_type": "code",
   "execution_count": null,
   "id": "d168f4c1",
   "metadata": {},
   "outputs": [],
   "source": [
    "scope"
   ]
  },
  {
   "cell_type": "markdown",
   "id": "0901649d",
   "metadata": {},
   "source": [
    "# DATA COLLECTION:"
   ]
  },
  {
   "cell_type": "code",
   "execution_count": null,
   "id": "d5fd60f7",
   "metadata": {},
   "outputs": [],
   "source": [
    "trace_array = []\n",
    "textin_array = []\n",
    "N = 300000\n",
    "for i in tnrange(N, desc='Capturing traces'):\n",
    "    scope.arm()\n",
    "    \n",
    "    target.simpleserial_write('p', text)\n",
    "    \n",
    "    ret = scope.capture()\n",
    "    if ret:\n",
    "        print(\"Target timed out!\")\n",
    "        continue\n",
    "    \n",
    "    response = target.simpleserial_read('r', 16)\n",
    "    \n",
    "    trace_array.append(scope.get_last_trace())\n",
    "    textin_array.append(text)\n",
    "    \n",
    "    key, text = ktp.next() "
   ]
  },
  {
   "cell_type": "markdown",
   "id": "bd6b55ef",
   "metadata": {},
   "source": [
    "# Scope Specs"
   ]
  },
  {
   "cell_type": "code",
   "execution_count": null,
   "id": "0502e1a1",
   "metadata": {},
   "outputs": [],
   "source": [
    "print(\"Capture rate: \"+str\n",
    "      (scope.clock.adc_freq/10e5)+\"MHz\")"
   ]
  },
  {
   "cell_type": "markdown",
   "id": "fc10ef8a",
   "metadata": {},
   "source": [
    "# Save the data"
   ]
  },
  {
   "cell_type": "code",
   "execution_count": null,
   "id": "bc9cc84e",
   "metadata": {},
   "outputs": [],
   "source": [
    "output_path='/home/ucsec/Desktop/'\n",
    "os.makedirs(output_path, exist_ok=True)\n",
    "\n",
    "file_name='val_diff_key.npz'\n",
    "\n",
    "outpath = os.path.join(output_path,file_name)\n",
    "np.savez(outpath, power_trace=trace_array, plain_text=textin_array,key=key)\n"
   ]
  },
  {
   "cell_type": "code",
   "execution_count": null,
   "id": "6306c9e1",
   "metadata": {},
   "outputs": [],
   "source": [
    "hex_key = [hex(val) for val in key]\n",
    "print(hex_key)"
   ]
  },
  {
   "cell_type": "code",
   "execution_count": null,
   "id": "9ffbeac7",
   "metadata": {},
   "outputs": [],
   "source": [
    "scope.dis()\n",
    "target.dis()"
   ]
  }
 ],
 "metadata": {
  "kernelspec": {
   "display_name": "Python 3 (ipykernel)",
   "language": "python",
   "name": "python3"
  },
  "language_info": {
   "codemirror_mode": {
    "name": "ipython",
    "version": 3
   },
   "file_extension": ".py",
   "mimetype": "text/x-python",
   "name": "python",
   "nbconvert_exporter": "python",
   "pygments_lexer": "ipython3",
   "version": "3.9.13"
  }
 },
 "nbformat": 4,
 "nbformat_minor": 5
}
