{
 "cells": [
  {
   "cell_type": "code",
   "execution_count": 25,
   "id": "e9352f97",
   "metadata": {},
   "outputs": [],
   "source": [
    "# # Parameters for Sum of Difference graph\n",
    "# data_params2 = {\n",
    "#     \"temp_input_path\": '/home/mabon/Tiny_power/datasets/power/xmega_unmasked/X1_K1_200k.npz', # path to template input file\n",
    "#     \"temp_n\": 200000,\n",
    "#     \"numPOIs\":10,\n",
    "#     \"POIspacing\": 5,\n",
    "#     \"atk_input_path\": '/home/mabon/Tiny_power/datasets/power/xmega_unmasked/X1_K1_200k.npz', #path to attack input file\n",
    "#     \"atk_n\": 400,\n",
    "#     \"target_byte\": 0, # byte on which analysis is to be performed\n",
    "# }\n"
   ]
  },
  {
   "cell_type": "code",
   "execution_count": 26,
   "id": "f8a897f9",
   "metadata": {},
   "outputs": [],
   "source": [
    "import numpy as np\n",
    "from tqdm import tnrange\n",
    "from scipy.stats import multivariate_normal\n",
    "import matplotlib.pyplot as plt\n",
    "import random\n",
    "\n",
    "\n",
    "#Manual imports from main\n",
    "temp_path = data_params3['Training_dataset']\n",
    "trace_num = data_params3['Training_traces']\n",
    "whole_pack = np.load(temp_path)\n",
    "\n",
    "try:\n",
    "    trace_array, textin_array, key = whole_pack['power_trace'], whole_pack['plain_text'], whole_pack['key']\n",
    "except Exception:\n",
    "    trace_array, textin_array, key = whole_pack['trace_mat'], whole_pack['textin_mat'], whole_pack['key']\n",
    "trace_array = trace_array[:trace_num, :]\n",
    "textin_array = textin_array[:trace_num, :]\n",
    "\n",
    "tempTraces = trace_array\n",
    "tempPText = textin_array\n",
    "tempKey = key\n",
    "tempSize = trace_num\n",
    "target_byte=data_params3['target_byte']\n",
    "real_key=key[target_byte]"
   ]
  },
  {
   "cell_type": "code",
   "execution_count": 27,
   "id": "9ac94728",
   "metadata": {},
   "outputs": [],
   "source": [
    "\n",
    "# Useful utilities\n",
    "sbox=(\n",
    "    0x63,0x7c,0x77,0x7b,0xf2,0x6b,0x6f,0xc5,0x30,0x01,0x67,0x2b,0xfe,0xd7,0xab,0x76,\n",
    "    0xca,0x82,0xc9,0x7d,0xfa,0x59,0x47,0xf0,0xad,0xd4,0xa2,0xaf,0x9c,0xa4,0x72,0xc0,\n",
    "    0xb7,0xfd,0x93,0x26,0x36,0x3f,0xf7,0xcc,0x34,0xa5,0xe5,0xf1,0x71,0xd8,0x31,0x15,\n",
    "    0x04,0xc7,0x23,0xc3,0x18,0x96,0x05,0x9a,0x07,0x12,0x80,0xe2,0xeb,0x27,0xb2,0x75,\n",
    "    0x09,0x83,0x2c,0x1a,0x1b,0x6e,0x5a,0xa0,0x52,0x3b,0xd6,0xb3,0x29,0xe3,0x2f,0x84,\n",
    "    0x53,0xd1,0x00,0xed,0x20,0xfc,0xb1,0x5b,0x6a,0xcb,0xbe,0x39,0x4a,0x4c,0x58,0xcf,\n",
    "    0xd0,0xef,0xaa,0xfb,0x43,0x4d,0x33,0x85,0x45,0xf9,0x02,0x7f,0x50,0x3c,0x9f,0xa8,\n",
    "    0x51,0xa3,0x40,0x8f,0x92,0x9d,0x38,0xf5,0xbc,0xb6,0xda,0x21,0x10,0xff,0xf3,0xd2,\n",
    "    0xcd,0x0c,0x13,0xec,0x5f,0x97,0x44,0x17,0xc4,0xa7,0x7e,0x3d,0x64,0x5d,0x19,0x73,\n",
    "    0x60,0x81,0x4f,0xdc,0x22,0x2a,0x90,0x88,0x46,0xee,0xb8,0x14,0xde,0x5e,0x0b,0xdb,\n",
    "    0xe0,0x32,0x3a,0x0a,0x49,0x06,0x24,0x5c,0xc2,0xd3,0xac,0x62,0x91,0x95,0xe4,0x79,\n",
    "    0xe7,0xc8,0x37,0x6d,0x8d,0xd5,0x4e,0xa9,0x6c,0x56,0xf4,0xea,0x65,0x7a,0xae,0x08,\n",
    "    0xba,0x78,0x25,0x2e,0x1c,0xa6,0xb4,0xc6,0xe8,0xdd,0x74,0x1f,0x4b,0xbd,0x8b,0x8a,\n",
    "    0x70,0x3e,0xb5,0x66,0x48,0x03,0xf6,0x0e,0x61,0x35,0x57,0xb9,0x86,0xc1,0x1d,0x9e,\n",
    "    0xe1,0xf8,0x98,0x11,0x69,0xd9,0x8e,0x94,0x9b,0x1e,0x87,0xe9,0xce,0x55,0x28,0xdf,\n",
    "    0x8c,0xa1,0x89,0x0d,0xbf,0xe6,0x42,0x68,0x41,0x99,0x2d,0x0f,0xb0,0x54,0xbb,0x16) \n",
    "hw = [bin(x).count(\"1\") for x in range(256)]\n",
    "\n",
    "def cov(x, y):\n",
    "    # Find the covariance between two 1D lists (x and y).\n",
    "    # Note that var(x) = cov(x, x)\n",
    "    return np.cov(x, y)[0][1]\n",
    "def aes_internal(inputdata, key):\n",
    "    key = int(key)\n",
    "    inputdata = int(inputdata)\n",
    "    return sbox[inputdata ^ key]\n",
    "\n",
    "\n",
    "\n",
    "tempSbox = [aes_internal(tempPText[i][target_byte],tempKey[i % 16]) for i in range(len(tempPText))] \n",
    "tempHW   = [hw[s] for s in tempSbox]\n",
    "\n",
    "tempTracesHW = [[] for _ in range(9)]\n",
    "\n",
    "# Fill them up\n",
    "for i in range(len(tempTraces)):\n",
    "    HW = tempHW[i]\n",
    "    tempTracesHW[HW].append(tempTraces[i])\n",
    "\n",
    "# Switch to numpy arrays\n",
    "tempTracesHW = [np.array(tempTracesHW[HW]) for HW in range(9)]\n"
   ]
  },
  {
   "cell_type": "code",
   "execution_count": 28,
   "id": "81745bce",
   "metadata": {},
   "outputs": [
    {
     "data": {
      "image/png": "[encoded data removed]",
      "text/plain": [
       "<Figure size 640x480 with 1 Axes>"
      ]
     },
     "metadata": {},
     "output_type": "display_data"
    },
    {
     "name": "stdout",
     "output_type": "stream",
     "text": [
      "POIs: [1926, 1937, 1931, 3413, 3285, 1009, 3761, 1981, 3637, 1942]\n"
     ]
    }
   ],
   "source": [
    "# 3: Find averages\n",
    "tempMeans = np.zeros((9, len(tempTraces[0])))\n",
    "for i in range(9):\n",
    "    tempMeans[i] = np.average(tempTracesHW[i], 0)\n",
    "    \n",
    "#plt.plot(tempMeans[2])\n",
    "#plt.grid()\n",
    "#plt.show()\n",
    "\n",
    "\n",
    "# 4: Find sum of differences\n",
    "tempSumDiff = np.zeros(len(tempTraces[0]))\n",
    "for i in range(9):\n",
    "    for j in range(i):\n",
    "        tempSumDiff += np.abs(tempMeans[i] - tempMeans[j])\n",
    "\n",
    "plt.plot(tempSumDiff)\n",
    "plt.grid()\n",
    "plt.show()\n",
    "\n",
    "\n",
    "trace_num = data_params3['Training_traces']\n",
    "POIs = []\n",
    "numPOIs = data_params3['numPOIs']\n",
    "POIspacing = data_params3['POIspacing']\n",
    "for i in range(numPOIs):\n",
    "    # Find the max\n",
    "    nextPOI = tempSumDiff.argmax()\n",
    "    POIs.append(nextPOI)\n",
    "    \n",
    "    # Make sure we don't pick a nearby value\n",
    "    poiMin = max(0, nextPOI - POIspacing)\n",
    "    poiMax = min(nextPOI + POIspacing, len(tempSumDiff))\n",
    "    for j in range(poiMin, poiMax):\n",
    "        tempSumDiff[j] = 0\n",
    "    \n",
    "print(\"POIs: \" + str(POIs))\n",
    "#print POIs\n",
    "\n",
    "\n"
   ]
  },
  {
   "cell_type": "code",
   "execution_count": 29,
   "id": "a8ec050b",
   "metadata": {},
   "outputs": [
    {
     "name": "stderr",
     "output_type": "stream",
     "text": [
      "/home/mabon/anaconda3/envs/tensorflow/lib/python3.7/site-packages/ipykernel_launcher.py:4: TqdmDeprecationWarning: Please use `tqdm.notebook.trange` instead of `tqdm.tnrange`\n",
      "  after removing the cwd from sys.path.\n"
     ]
    },
    {
     "data": {
      "application/vnd.jupyter.widget-view+json": {
       "model_id": "ce02d824c26f4038ab66427ba8bfee6f",
       "version_major": 2,
       "version_minor": 0
      },
      "text/plain": [
       "  0%|          | 0/9 [00:00<?, ?it/s]"
      ]
     },
     "metadata": {},
     "output_type": "display_data"
    }
   ],
   "source": [
    "# 6: Fill up mean and covariance matrix for each HW\n",
    "meanMatrix = np.zeros((9, numPOIs))\n",
    "covMatrix  = np.zeros((9, numPOIs, numPOIs))\n",
    "for HW in tnrange(9):\n",
    "    for i in range(numPOIs):\n",
    "        # Fill in mean\n",
    "        meanMatrix[HW][i] = tempMeans[HW][POIs[i]]\n",
    "        for j in range(numPOIs):\n",
    "            x = tempTracesHW[HW][:,POIs[i]]\n",
    "            y = tempTracesHW[HW][:,POIs[j]]\n",
    "            covMatrix[HW,i,j] = cov(x, y)"
   ]
  },
  {
   "cell_type": "code",
   "execution_count": 30,
   "id": "16326be3",
   "metadata": {},
   "outputs": [
    {
     "name": "stdout",
     "output_type": "stream",
     "text": [
      "atk_input_path: /home/mabon/Tiny_power/datasets/power/xmega_unmasked/X1_K1_200k.npz\n"
     ]
    }
   ],
   "source": [
    "# 1: Load attack traces\n",
    "temp_path = data_params3['atk_input_path']\n",
    "trace_num = data_params3['atk_n']\n",
    "whole_pack = np.load(temp_path)\n",
    "\n",
    "try:\n",
    "    trace_array, textin_array, key = whole_pack['power_trace'], whole_pack['plain_text'], whole_pack['key']\n",
    "except Exception:\n",
    "    trace_array, textin_array, key = whole_pack['trace_mat'], whole_pack['textin_mat'], whole_pack['key']\n",
    "trace_array = trace_array[:trace_num, :]\n",
    "textin_array = textin_array[:trace_num, :]\n",
    "\n",
    "atkTraces = trace_array\n",
    "atkPText = textin_array\n",
    "atkKey = key\n",
    "atkSize = trace_num\n",
    "\n",
    "print(\"atk_input_path: \" + str(temp_path))"
   ]
  },
  {
   "cell_type": "code",
   "execution_count": 41,
   "id": "60cae2ed",
   "metadata": {},
   "outputs": [
    {
     "name": "stdout",
     "output_type": "stream",
     "text": [
      "atkKey: [ 43 126  21  22  40 174 210 166 171 247  21 136   9 207  79  60]\n"
     ]
    },
    {
     "name": "stderr",
     "output_type": "stream",
     "text": [
      "/home/mabon/anaconda3/envs/tensorflow/lib/python3.7/site-packages/ipykernel_launcher.py:10: TqdmDeprecationWarning: Please use `tqdm.notebook.trange` instead of `tqdm.tnrange`\n",
      "  # Remove the CWD from sys.path while we load stuff.\n"
     ]
    },
    {
     "data": {
      "application/vnd.jupyter.widget-view+json": {
       "model_id": "ce4a5f22f3bb41db8f200d95a94ed43a",
       "version_major": 2,
       "version_minor": 0
      },
      "text/plain": [
       "  0%|          | 0/400 [00:00<?, ?it/s]"
      ]
     },
     "metadata": {},
     "output_type": "display_data"
    },
    {
     "name": "stdout",
     "output_type": "stream",
     "text": [
      "Template attack complete\n"
     ]
    }
   ],
   "source": [
    "print(\"atkKey: \" + str(atkKey))\n",
    "guess_entropy=[]\n",
    "# 2: Attack\n",
    "# Running total of log P_k\n",
    "P_k = np.zeros(256)\n",
    "#Save guess values for graphing block of code\n",
    "savedLog = [[0] * len(atkTraces) for i in range(256)]\n",
    "x = np.zeros(len(atkTraces))\n",
    "\n",
    "for j in tnrange(len(atkTraces)):\n",
    "    # Grab key points and put them in a small matrix\n",
    "    a = [atkTraces[j][POIs[i]] for i in range(len(POIs))]\n",
    "    \n",
    "    # Test each key\n",
    "    for k in range(256):\n",
    "        # Find HW coming out of sbox\n",
    "        HW = hw[aes_internal(atkPText[j][target_byte],k)]\n",
    "    \n",
    "        # Find p_{k,j}\n",
    "        rv = multivariate_normal(meanMatrix[HW], covMatrix[HW])\n",
    "        p_kj = rv.pdf(a)\n",
    "        P_k[k] += np.log(p_kj) #CHANGED to prevent negative values. \n",
    "\n",
    "        savedLog[k][j] = P_k[k]\n",
    "\n",
    "    guess_entropy.append(P_k.argsort())\n",
    "    \n",
    "    x[j] = j\n",
    "\n",
    "print(\"Template attack complete\")"
   ]
  },
  {
   "cell_type": "code",
   "execution_count": 42,
   "id": "ee57645f",
   "metadata": {},
   "outputs": [
    {
     "data": {
      "text/plain": [
       "[<matplotlib.lines.Line2D at 0x7f1671ea5a10>]"
      ]
     },
     "execution_count": 42,
     "metadata": {},
     "output_type": "execute_result"
    },
    {
     "data": {
      "image/png": "[encoded data removed]",
      "text/plain": [
       "<Figure size 640x480 with 1 Axes>"
      ]
     },
     "metadata": {},
     "output_type": "display_data"
    }
   ],
   "source": [
    "guess_entropy_mag=[]\n",
    "for i in range(len(guess_entropy)):\n",
    "    guess_entropy_mag.append(256-(list(guess_entropy[i]).index(real_key))-1)\n",
    "plt.title(\"Key Ranking\")\n",
    "plt.xlabel('Number of Traces')\n",
    "plt.ylabel('KRC')\n",
    "plt.plot(guess_entropy_mag)\n",
    "\n",
    "#Write code to save as a \"output_Dir/rank_dir/ranking_raw_data.npz\". DO NOT forget to mkdir "
   ]
  },
  {
   "cell_type": "code",
   "execution_count": null,
   "id": "dad16756",
   "metadata": {},
   "outputs": [],
   "source": []
  },
  {
   "cell_type": "code",
   "execution_count": null,
   "id": "762d6a8c",
   "metadata": {},
   "outputs": [],
   "source": []
  },
  {
   "cell_type": "code",
   "execution_count": null,
   "id": "5038bcb9",
   "metadata": {},
   "outputs": [],
   "source": []
  }
 ],
 "metadata": {
  "kernelspec": {
   "display_name": "Python 3 (ipykernel)",
   "language": "python",
   "name": "python3"
  },
  "language_info": {
   "codemirror_mode": {
    "name": "ipython",
    "version": 3
   },
   "file_extension": ".py",
   "mimetype": "text/x-python",
   "name": "python",
   "nbconvert_exporter": "python",
   "pygments_lexer": "ipython3",
   "version": "3.7.13"
  }
 },
 "nbformat": 4,
 "nbformat_minor": 5
}
