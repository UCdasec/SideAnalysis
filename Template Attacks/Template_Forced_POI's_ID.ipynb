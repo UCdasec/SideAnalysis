{
 "cells": [
  {
   "cell_type": "code",
   "execution_count": 1,
   "id": "9240660c",
   "metadata": {},
   "outputs": [],
   "source": [
    "import numpy as np\n",
    "from tqdm import tnrange\n",
    "from scipy.stats import multivariate_normal\n",
    "import matplotlib.pyplot as plt\n",
    "import random\n",
    "from sklearn.utils import shuffle\n",
    "import os"
   ]
  },
  {
   "cell_type": "code",
   "execution_count": null,
   "id": "9746c933",
   "metadata": {},
   "outputs": [],
   "source": [
    "# # Parameters for Sum of Difference graph\n",
    "data_params3 = {\n",
    "     \"Training_dataset_Path\": '/home/mabon/Tiny_power/datasets/power/xmega_unmasked/X1_K1_200k.npz', \n",
    "     \"Training_traces\": 90000,\n",
    "     \"numPOIs\":10,\n",
    "     \"POIspacing\": 1,\n",
    "     \"atk_input_path\": '/home/mabon/Tiny_power/datasets/power/xmega_unmasked/X1_K1_200k.npz', #path to attack input file\n",
    "     \"atk_n\": 50,\n",
    "     \"target_byte\": 2, # byte on which analysis is to be performed\n",
    "     \"attack_rounds\": 5,\n",
    "     \"multi_plotter\":True,\n",
    "    \"output_path_dir\":\"/home/mabon/temp\"\n",
    "}"
   ]
  },
  {
   "cell_type": "code",
   "execution_count": null,
   "id": "e67e8def",
   "metadata": {},
   "outputs": [],
   "source": [
    "POIs=[2430, 2441, 2442, 2431, 2443, 2432, 3053, 3085, 4317, 2437]\n"
   ]
  },
  {
   "cell_type": "code",
   "execution_count": null,
   "id": "8bb4c5a2",
   "metadata": {},
   "outputs": [],
   "source": [
    "# Retrieve Profiling Phase parameters\n",
    "temp_path = data_params3['Training_dataset_Path']\n",
    "trace_num = data_params3['Training_traces']\n",
    "attack_rounds=data_params3['attack_rounds']\n",
    "whole_pack = np.load(temp_path)\n",
    "\n",
    "try:\n",
    "    trace_array, textin_array, key = whole_pack['power_trace'], whole_pack['plain_text'], whole_pack['key']\n",
    "except Exception:\n",
    "    trace_array, textin_array, key = whole_pack['trace_mat'], whole_pack['textin_mat'], whole_pack['key']\n",
    "trace_array = trace_array[:trace_num, :]\n",
    "textin_array = textin_array[:trace_num, :]\n",
    "\n",
    "tempTraces = trace_array\n",
    "tempPText = textin_array\n",
    "\n",
    "target_byte=data_params3['target_byte']\n",
    "\n",
    "#Get key and real key\n",
    "tempKey = key\n",
    "real_key=key[target_byte]"
   ]
  },
  {
   "cell_type": "code",
   "execution_count": null,
   "id": "0b4b0320",
   "metadata": {},
   "outputs": [],
   "source": [
    "\n",
    "# SBox used in AES\n",
    "sbox=(\n",
    "    0x63,0x7c,0x77,0x7b,0xf2,0x6b,0x6f,0xc5,0x30,0x01,0x67,0x2b,0xfe,0xd7,0xab,0x76,\n",
    "    0xca,0x82,0xc9,0x7d,0xfa,0x59,0x47,0xf0,0xad,0xd4,0xa2,0xaf,0x9c,0xa4,0x72,0xc0,\n",
    "    0xb7,0xfd,0x93,0x26,0x36,0x3f,0xf7,0xcc,0x34,0xa5,0xe5,0xf1,0x71,0xd8,0x31,0x15,\n",
    "    0x04,0xc7,0x23,0xc3,0x18,0x96,0x05,0x9a,0x07,0x12,0x80,0xe2,0xeb,0x27,0xb2,0x75,\n",
    "    0x09,0x83,0x2c,0x1a,0x1b,0x6e,0x5a,0xa0,0x52,0x3b,0xd6,0xb3,0x29,0xe3,0x2f,0x84,\n",
    "    0x53,0xd1,0x00,0xed,0x20,0xfc,0xb1,0x5b,0x6a,0xcb,0xbe,0x39,0x4a,0x4c,0x58,0xcf,\n",
    "    0xd0,0xef,0xaa,0xfb,0x43,0x4d,0x33,0x85,0x45,0xf9,0x02,0x7f,0x50,0x3c,0x9f,0xa8,\n",
    "    0x51,0xa3,0x40,0x8f,0x92,0x9d,0x38,0xf5,0xbc,0xb6,0xda,0x21,0x10,0xff,0xf3,0xd2,\n",
    "    0xcd,0x0c,0x13,0xec,0x5f,0x97,0x44,0x17,0xc4,0xa7,0x7e,0x3d,0x64,0x5d,0x19,0x73,\n",
    "    0x60,0x81,0x4f,0xdc,0x22,0x2a,0x90,0x88,0x46,0xee,0xb8,0x14,0xde,0x5e,0x0b,0xdb,\n",
    "    0xe0,0x32,0x3a,0x0a,0x49,0x06,0x24,0x5c,0xc2,0xd3,0xac,0x62,0x91,0x95,0xe4,0x79,\n",
    "    0xe7,0xc8,0x37,0x6d,0x8d,0xd5,0x4e,0xa9,0x6c,0x56,0xf4,0xea,0x65,0x7a,0xae,0x08,\n",
    "    0xba,0x78,0x25,0x2e,0x1c,0xa6,0xb4,0xc6,0xe8,0xdd,0x74,0x1f,0x4b,0xbd,0x8b,0x8a,\n",
    "    0x70,0x3e,0xb5,0x66,0x48,0x03,0xf6,0x0e,0x61,0x35,0x57,0xb9,0x86,0xc1,0x1d,0x9e,\n",
    "    0xe1,0xf8,0x98,0x11,0x69,0xd9,0x8e,0x94,0x9b,0x1e,0x87,0xe9,0xce,0x55,0x28,0xdf,\n",
    "    0x8c,0xa1,0x89,0x0d,0xbf,0xe6,0x42,0x68,0x41,0x99,0x2d,0x0f,0xb0,0x54,0xbb,0x16) \n",
    "hw = [bin(x).count(\"1\") for x in range(256)]\n",
    "\n",
    "def cov(x, y):\n",
    "    # Find the covariance between two 1D lists (x and y).\n",
    "    # Note that var(x) = cov(x, x)\n",
    "    return np.cov(x, y)[0][1]\n",
    "def aes_internal(inputdata, key):\n",
    "    key = int(key)\n",
    "    inputdata = int(inputdata)\n",
    "    return sbox[inputdata ^ key]\n",
    "\n",
    "# Send XOR of our plaintext and key through S-Box\n",
    "tempSbox = [aes_internal(tempPText[i][target_byte],tempKey[i % 16]) for i in range(len(tempPText))] \n",
    "\n",
    "tempSubKey = []\n",
    "for i in range(len(tempSbox)):\n",
    "    tempSubKey.append(tempSbox[i])\n",
    "\n",
    "# Sort subkey of traces into groups by subkey\n",
    "tempTracesSubKey = [[] for _ in range(256)]\n",
    "for i in range(len(tempTraces)):\n",
    "    subKey = tempSubKey[i]\n",
    "    tempTracesSubKey[subKey].append(tempTraces[i])\n",
    "\n",
    "# Switch to numpy arrays\n",
    "tempTracesSubKey = [np.array(tempTracesSubKey[subKey]) for subKey in range(256)]\n"
   ]
  },
  {
   "cell_type": "code",
   "execution_count": null,
   "id": "de5ef5d3",
   "metadata": {},
   "outputs": [],
   "source": [
    "# 3: Find averages used to determine sum of differences\n",
    "tempMeans = np.zeros((256, len(tempTraces[0])))\n",
    "print(np.shape(tempTracesSubKey))\n",
    "for i in range(256):\n",
    "    tempMeans[i] = np.average(tempTracesSubKey[i], 0) \n",
    "\n",
    "# 4: Calculate sum of differences used to determine POIs\n",
    "tempSumDiff = np.zeros(len(tempTraces[0]))\n",
    "for i in range(256):\n",
    "    for j in range(i):\n",
    "        tempSumDiff += np.abs(tempMeans[i] - tempMeans[j])\n",
    "\n",
    "plt.plot(tempSumDiff)\n",
    "plt.grid()\n",
    "plt.show()\n"
   ]
  },
  {
   "cell_type": "code",
   "execution_count": null,
   "id": "e0a3f1b6",
   "metadata": {},
   "outputs": [],
   "source": [
    "\n",
    "numPOIs = data_params3['numPOIs']\n",
    "POIspacing = data_params3['POIspacing']\n",
    "if (numPOIs==len(POIs)):\n",
    "    print(\"POIs: \" + str(POIs))\n",
    "else:\n",
    "    print(\"ERROR\")"
   ]
  },
  {
   "cell_type": "code",
   "execution_count": null,
   "id": "5735e135",
   "metadata": {},
   "outputs": [],
   "source": [
    "# 6: Fill up mean and covariance matrix for each subkey\n",
    "# Mean and Covariance matrixes used to create multivariate distributions in actual attack\n",
    "meanMatrix = np.zeros((256, numPOIs))\n",
    "covMatrix  = np.zeros((256, numPOIs, numPOIs))\n",
    "for subKey in tnrange(256):\n",
    "    for i in range(numPOIs):\n",
    "        # Calculate Mean for given subkey\n",
    "        meanMatrix[subKey][i] = tempMeans[subKey][POIs[i]]\n",
    "        for j in range(numPOIs):\n",
    "            #Calculate Covariance for given subkey\n",
    "            x = tempTracesSubKey[subKey][:,POIs[i]]\n",
    "            y = tempTracesSubKey[subKey][:,POIs[j]]\n",
    "            covMatrix[subKey,i,j] = cov(x, y)\n",
    "print(\"Templete Built\")"
   ]
  },
  {
   "cell_type": "code",
   "execution_count": null,
   "id": "156dcaa9",
   "metadata": {},
   "outputs": [],
   "source": [
    "# 1: Load attack traces\n",
    "temp_path = data_params3['atk_input_path']\n",
    "trace_num = data_params3['atk_n']\n",
    "whole_pack = np.load(temp_path)\n",
    "\n",
    "try:\n",
    "    trace_array, textin_array, key = whole_pack['power_trace'], whole_pack['plain_text'], whole_pack['key']\n",
    "except Exception:\n",
    "    trace_array, textin_array, key = whole_pack['trace_mat'], whole_pack['textin_mat'], whole_pack['key']\n",
    "trace_array = trace_array[:trace_num, :]\n",
    "textin_array = textin_array[:trace_num, :]\n",
    "\n",
    "atkTraces = trace_array\n",
    "atkPText = textin_array\n",
    "atkKey = key\n",
    "atkSize = trace_num\n",
    "\n",
    "print(\"atk_input_path: \" + str(temp_path))"
   ]
  },
  {
   "cell_type": "code",
   "execution_count": null,
   "id": "ea9ed46e",
   "metadata": {},
   "outputs": [],
   "source": [
    "def attack(trace_array, textin_array):\n",
    "    #Randomize values for current run\n",
    "    trace_array, textin_array = shuffle(trace_array, textin_array)\n",
    "    atkTraces = trace_array\n",
    "    atkPText = textin_array\n",
    "    #P_k is an array containing the KRC for all guesses for the key.  As the value increases, the rank increases\n",
    "    P_k = np.zeros(256)\n",
    "    #Guess entropy array is used for graphing block\n",
    "    guess_entropy=[]\n",
    "\n",
    "    for j in range(len(atkTraces)):\n",
    "        # Grab key points and put them in a small matrix\n",
    "        a = [atkTraces[j][POIs[i]] for i in range(len(POIs))]\n",
    "        # Test each guess\n",
    "        for k in range(256):\n",
    "            # Find subKey coming out of sbox\n",
    "            subKey = aes_internal(atkPText[j][target_byte],k)\n",
    "            # Find p_{k,j}\n",
    "            rv = multivariate_normal(meanMatrix[subKey], covMatrix[subKey], allow_singular=True)\n",
    "            p_kj = rv.pdf(a)\n",
    "            #Add value to KRC of guess\n",
    "            P_k[k] += np.log(p_kj)  \n",
    "        guess_entropy.append(P_k.argsort())\n",
    "    return(guess_entropy)"
   ]
  },
  {
   "cell_type": "code",
   "execution_count": null,
   "id": "11cc08ba",
   "metadata": {},
   "outputs": [],
   "source": [
    "#Start of Attack Phase\n",
    "print(\"Attack Start\")\n",
    "guess_entropy_mag=[]\n",
    "print(\"atkKey: \" + str(atkKey))\n",
    "\n",
    "for h in tnrange(attack_rounds):\n",
    "    temp=[]\n",
    "    guess_entropy=attack(trace_array, textin_array)\n",
    "    for i in range(len(guess_entropy)):\n",
    "        temp.append(256-(list(guess_entropy[i]).index(real_key))-1)\n",
    "    guess_entropy_mag.append(temp)"
   ]
  },
  {
   "cell_type": "code",
   "execution_count": null,
   "id": "29cf131c",
   "metadata": {},
   "outputs": [],
   "source": [
    "if data_params3['multi_plotter']==True:\n",
    "    for i in range(len(guess_entropy_mag)):\n",
    "        plt.plot(guess_entropy_mag[i])\n",
    "    plt.title(\"Key Ranking\")\n",
    "    plt.xlabel('Number of Traces')\n",
    "    plt.ylabel('KRC')"
   ]
  },
  {
   "cell_type": "code",
   "execution_count": null,
   "id": "f132ad44",
   "metadata": {},
   "outputs": [],
   "source": [
    "# Average the array across columns\n",
    "average = np.mean(guess_entropy_mag, axis=0)\n",
    "average\n",
    "plt.plot(average)\n",
    "plt.title(\"Key Ranking\")\n",
    "plt.xlabel('Number of Traces')\n",
    "plt.ylabel('KRC')"
   ]
  },
  {
   "cell_type": "code",
   "execution_count": null,
   "id": "1ed36ba3",
   "metadata": {},
   "outputs": [],
   "source": [
    "#python program to check if a directory exists\n",
    "\n",
    "path =  data_params3[\"output_path_dir\"]\n",
    "model_save_file = os.path.join(path, 'test_trace.npz')\n",
    "# Check whether the specified path exists or not\n",
    "isExist = os.path.exists(path)\n",
    "if not isExist:\n",
    "\n",
    "   # Create a new directory because it does not exist\n",
    "   os.makedirs(path)\n",
    "   print(\"The new directory is created!\")\n",
    "np.savez(model_save_file,y=average)\n",
    "print(model_save_file)"
   ]
  },
  {
   "cell_type": "code",
   "execution_count": null,
   "id": "3bcfc9fc",
   "metadata": {},
   "outputs": [],
   "source": []
  },
  {
   "cell_type": "code",
   "execution_count": null,
   "id": "9c8e85a5",
   "metadata": {},
   "outputs": [],
   "source": []
  },
  {
   "cell_type": "code",
   "execution_count": null,
   "id": "1140c5bd",
   "metadata": {},
   "outputs": [],
   "source": []
  },
  {
   "cell_type": "code",
   "execution_count": null,
   "id": "e7e42097",
   "metadata": {},
   "outputs": [],
   "source": []
  },
  {
   "cell_type": "code",
   "execution_count": null,
   "id": "ae05831d",
   "metadata": {},
   "outputs": [],
   "source": []
  },
  {
   "cell_type": "code",
   "execution_count": null,
   "id": "6cd29dce",
   "metadata": {},
   "outputs": [],
   "source": []
  },
  {
   "cell_type": "code",
   "execution_count": null,
   "id": "145bb7d6",
   "metadata": {},
   "outputs": [],
   "source": []
  },
  {
   "cell_type": "code",
   "execution_count": null,
   "id": "3bea69f9",
   "metadata": {},
   "outputs": [],
   "source": []
  },
  {
   "cell_type": "code",
   "execution_count": null,
   "id": "e5160efb",
   "metadata": {},
   "outputs": [],
   "source": []
  }
 ],
 "metadata": {
  "kernelspec": {
   "display_name": "Python [conda env:tensorflow] *",
   "language": "python",
   "name": "conda-env-tensorflow-py"
  },
  "language_info": {
   "codemirror_mode": {
    "name": "ipython",
    "version": 3
   },
   "file_extension": ".py",
   "mimetype": "text/x-python",
   "name": "python",
   "nbconvert_exporter": "python",
   "pygments_lexer": "ipython3",
   "version": "3.7.13"
  }
 },
 "nbformat": 4,
 "nbformat_minor": 5
}
